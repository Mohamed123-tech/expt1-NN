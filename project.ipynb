import pandas as pd
df=pd.read_csv("/content/data.csv - data.csv")

print(df)
X=df.iloc[:, :-1].values
print(X)
Y=df.iloc[:, :-1].values
print(Y)
print(df.isnull().sum())
